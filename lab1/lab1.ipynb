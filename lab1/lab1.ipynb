{
 "cells": [
  {
   "cell_type": "code",
   "execution_count": 2,
   "metadata": {},
   "outputs": [],
   "source": [
    "import numpy as np\n",
    "import matplotlib.pyplot as plt"
   ]
  },
  {
   "cell_type": "code",
   "execution_count": 210,
   "metadata": {},
   "outputs": [],
   "source": [
    "def linear(n):\n",
    "    res = np.random.uniform(0,1,(n,2))\n",
    "    input = []\n",
    "    label = []\n",
    "    input.append(res)\n",
    "    for i in input[0]:\n",
    "        if(i[0]>i[1]):\n",
    "            label.append(0)\n",
    "        else:\n",
    "            label.append(1)\n",
    "    \n",
    "    return input[0] , np.array(label).reshape(n, 1)\n",
    "def XOR(n):\n",
    "    res = np.random.randint(0,2,n)\n",
    "    input = []\n",
    "    label = []\n",
    "    for i in range(len(res)):\n",
    "        if(res[i]==0):\n",
    "            a =  np.random.uniform(0,1)\n",
    "            b = a\n",
    "            input.append(np.array([a,b]))\n",
    "            label.append(0)\n",
    "        else:\n",
    "            a =  np.random.uniform(0,1)\n",
    "            b = 1-a\n",
    "            input.append(np.array([a,b]))\n",
    "            label.append(1)\n",
    "    return np.array(input) , np.array(label).reshape(n, 1)\n",
    "def sigmoid(x):\n",
    "    return 1.0/(1.0 + np.exp(-x))\n",
    "def derivative_sigmoid(x):\n",
    "    return np.multiply(x, 1.0 - x)"
   ]
  },
  {
   "cell_type": "code",
   "execution_count": 211,
   "metadata": {},
   "outputs": [],
   "source": [
    "def network(lr,h1,h2,epoch,dtype):\n",
    "    if dtype == 'linear':\n",
    "        x,y = linear(1000)\n",
    "    elif dtype == 'XOR':\n",
    "        x,y = XOR(100)\n",
    "\n",
    "    loss_record=[]\n",
    "    epoch_record=[]\n",
    "    \n",
    "    w1 = np.random.rand(x.shape[1],h1)\n",
    "    w2 = np.random.rand(h1,h2)\n",
    "    w3 = np.random.rand(h2,1)\n",
    "    \n",
    "    for i in range(1,epoch+1):\n",
    "        \n",
    "        #Forward\n",
    "        z1 = np.dot(x, w1)\n",
    "        a1 = sigmoid(z1)\n",
    "        z2 = np.dot(a1, w2)\n",
    "        a2 = sigmoid(z2)\n",
    "        z3 = np.dot(a2, w3)\n",
    "        y_pred = sigmoid(z3)\n",
    "        label_pred = [1 if x >= 0.5 else 0 for x in y_pred]\n",
    "        \n",
    "        #Backward\n",
    "        grad_y_pred = (y_pred - y) / (y_pred * (1 - y_pred)) # cross entropy loss\n",
    "        grad_z3 = np.multiply(grad_y_pred, derivative_sigmoid(y_pred))\n",
    "        grad_w3 = np.dot(a2.T, grad_z3)\n",
    "        grad_a2 = np.dot(grad_z3, w3.T)\n",
    "        grad_z2 = np.multiply(grad_a2, derivative_sigmoid(a2))\n",
    "        grad_w2 = np.dot(a1.T, grad_z2)\n",
    "        grad_a1 = np.dot(grad_z2, w2.T)\n",
    "        grad_z1 = np.multiply(grad_a1, derivative_sigmoid(a1))\n",
    "        grad_w1 = np.dot(x.T, grad_z1)\n",
    "\n",
    "        w1 -= lr * grad_w1\n",
    "        w2 -= lr * grad_w2\n",
    "        w3 -= lr * grad_w3\n",
    "        \n",
    "        acc = sum([1 if label_pred[j] == y[j] else 0 for j in range(y.shape[0])]) / y.shape[0]\n",
    "        loss = ((-1)*(y*np.log(y_pred)+(1-y)*np.log(1-y_pred))).sum() # cross entropy loss\n",
    "        loss_record.append(loss)\n",
    "        epoch_record.append(i)\n",
    "        \n",
    "        if(acc==1):\n",
    "            print(f'epoch: {i}  loss: {loss} acc: {acc}')\n",
    "            break\n",
    "        elif(i%500==0):\n",
    "            print(f'epoch: {i}  loss: {loss} acc: {acc}')\n",
    "        \n",
    "    #plot\n",
    "    plt.subplot(2,5,1)\n",
    "    plt.title(\"Ground Truth\")\n",
    "    plt.ylabel(\"y\") \n",
    "    plt.xlabel(\"x\")\n",
    "    for i in range(x.shape[0]):\n",
    "        if y[i] == 0:\n",
    "            plt.plot(x[i][0], x[i][1], 'ro')\n",
    "        else:\n",
    "            plt.plot(x[i][0], x[i][1], 'bo')\n",
    "\n",
    "    plt.subplot(2,5,3)\n",
    "    plt.title(\"Predict Result\")\n",
    "    plt.ylabel(\"y\") \n",
    "    plt.xlabel(\"x\")\n",
    "    for i in range(x.shape[0]):\n",
    "        if label_pred[i] == 0:\n",
    "            plt.plot(x[i][0], x[i][1], 'ro')\n",
    "        else:\n",
    "            plt.plot(x[i][0], x[i][1], 'bo')\n",
    "                \n",
    "                \n",
    "    plt.subplot(2,5,5)\n",
    "    plt.title(\"Learing Curve\")\n",
    "    plt.ylabel(\"Loss\") \n",
    "    plt.xlabel(\"Epoch\")\n",
    "    plt.plot(epoch_record,loss_record)\n",
    "    plt.show()\n",
    "    \n",
    "    \n",
    "    return y_pred"
   ]
  },
  {
   "cell_type": "code",
   "execution_count": 212,
   "metadata": {},
   "outputs": [
    {
     "name": "stdout",
     "output_type": "stream",
     "text": [
      "epoch: 500  loss: 188.54165876195088 acc: 0.974\n",
      "epoch: 1000  loss: 36.46190227324108 acc: 0.995\n",
      "epoch: 1500  loss: 24.3550331104098 acc: 0.997\n",
      "epoch: 2000  loss: 19.121829217505926 acc: 0.998\n",
      "epoch: 2500  loss: 16.063034727639504 acc: 0.999\n",
      "epoch: 3000  loss: 14.018564659179395 acc: 0.999\n",
      "epoch: 3500  loss: 12.541754390575441 acc: 0.999\n",
      "epoch: 4000  loss: 11.418365734377705 acc: 0.999\n",
      "epoch: 4500  loss: 10.531142692283783 acc: 0.999\n",
      "epoch: 5000  loss: 9.80999598658618 acc: 0.999\n",
      "epoch: 5500  loss: 9.210289670523919 acc: 0.999\n",
      "epoch: 6000  loss: 8.7021956605113 acc: 0.999\n",
      "epoch: 6500  loss: 8.26500603927672 acc: 0.999\n",
      "epoch: 6890  loss: 7.963527284952737 acc: 1.0\n"
     ]
    },
    {
     "data": {
      "image/png": "[encoded data removed]",
      "text/plain": [
       "<Figure size 432x288 with 3 Axes>"
      ]
     },
     "metadata": {
      "needs_background": "light"
     },
     "output_type": "display_data"
    },
    {
     "name": "stdout",
     "output_type": "stream",
     "text": [
      "[[9.99203749e-01]\n",
      " [1.03556266e-05]\n",
      " [6.79773786e-06]\n",
      " [9.99995678e-01]\n",
      " [3.03003410e-01]\n",
      " [1.88287007e-04]\n",
      " [4.33335854e-04]\n",
      " [9.99986834e-01]\n",
      " [9.99993112e-01]\n",
      " [9.99991595e-01]]\n"
     ]
    }
   ],
   "source": [
    "prediction = network(0.001,3,3,30000,'linear')\n",
    "print(prediction[:10])"
   ]
  },
  {
   "cell_type": "code",
   "execution_count": 207,
   "metadata": {},
   "outputs": [
    {
     "name": "stdout",
     "output_type": "stream",
     "text": [
      "epoch: 500  loss: 68.78631550343539 acc: 0.55\n",
      "epoch: 1000  loss: 68.73004043380416 acc: 0.55\n",
      "epoch: 1500  loss: 68.4115235549317 acc: 0.55\n",
      "epoch: 2000  loss: 63.67428001676271 acc: 0.55\n",
      "epoch: 2500  loss: 29.053106372295797 acc: 0.85\n",
      "epoch: 3000  loss: 16.025619111391077 acc: 0.98\n",
      "epoch: 3500  loss: 12.10326238401545 acc: 0.98\n",
      "epoch: 4000  loss: 10.594584694502988 acc: 0.99\n",
      "epoch: 4500  loss: 9.674586233635294 acc: 0.99\n",
      "epoch: 5000  loss: 8.963297301381322 acc: 0.99\n",
      "epoch: 5500  loss: 8.339514167778763 acc: 0.99\n",
      "epoch: 6000  loss: 7.745835720781237 acc: 0.99\n",
      "epoch: 6500  loss: 7.162588122101785 acc: 0.99\n",
      "epoch: 7000  loss: 6.6276109990296055 acc: 0.99\n",
      "epoch: 7500  loss: 6.2001585210701915 acc: 0.99\n",
      "epoch: 8000  loss: 5.8829936251706245 acc: 0.99\n",
      "epoch: 8500  loss: 5.640989403541066 acc: 0.99\n",
      "epoch: 9000  loss: 5.442836192330152 acc: 0.99\n",
      "epoch: 9500  loss: 5.269363067167359 acc: 0.99\n",
      "epoch: 10000  loss: 5.109917116960206 acc: 0.99\n",
      "epoch: 10500  loss: 4.958701781083698 acc: 0.99\n",
      "epoch: 11000  loss: 4.812552268998644 acc: 0.99\n",
      "epoch: 11500  loss: 4.669683779865388 acc: 0.99\n",
      "epoch: 12000  loss: 4.529019710064317 acc: 0.99\n",
      "epoch: 12500  loss: 4.389876790084733 acc: 0.99\n",
      "epoch: 13000  loss: 4.251829159912695 acc: 0.99\n",
      "epoch: 13500  loss: 4.114626175102197 acc: 0.99\n",
      "epoch: 14000  loss: 3.9781178228545637 acc: 0.99\n",
      "epoch: 14500  loss: 3.8421860262392964 acc: 0.99\n",
      "epoch: 15000  loss: 3.7066851552550317 acc: 0.99\n",
      "epoch: 15500  loss: 3.5713887753288307 acc: 0.99\n",
      "epoch: 16000  loss: 3.4359349824951115 acc: 0.99\n",
      "epoch: 16500  loss: 3.299758960084233 acc: 0.99\n",
      "epoch: 17000  loss: 3.161995519632826 acc: 0.99\n",
      "epoch: 17500  loss: 3.0213239616943306 acc: 0.99\n",
      "epoch: 18000  loss: 2.875711772243909 acc: 0.99\n",
      "epoch: 18204  loss: 2.8142060326521863 acc: 1.0\n"
     ]
    },
    {
     "data": {
      "image/png": "[encoded data removed]",
      "text/plain": [
       "<Figure size 432x288 with 3 Axes>"
      ]
     },
     "metadata": {
      "needs_background": "light"
     },
     "output_type": "display_data"
    },
    {
     "name": "stdout",
     "output_type": "stream",
     "text": [
      "[[9.99999510e-01]\n",
      " [1.35266340e-03]\n",
      " [3.17285980e-04]\n",
      " [4.87238159e-02]\n",
      " [9.99993839e-01]\n",
      " [9.99986453e-01]\n",
      " [9.99989139e-01]\n",
      " [9.96506916e-01]\n",
      " [9.99985554e-01]\n",
      " [1.29935952e-02]]\n"
     ]
    }
   ],
   "source": [
    "prediction = network(0.01,3,3,30000,'XOR')\n",
    "print(prediction[:10])"
   ]
  }
 ],
 "metadata": {
  "kernelspec": {
   "display_name": "Python 3",
   "language": "python",
   "name": "python3"
  },
  "language_info": {
   "codemirror_mode": {
    "name": "ipython",
    "version": 3
   },
   "file_extension": ".py",
   "mimetype": "text/x-python",
   "name": "python",
   "nbconvert_exporter": "python",
   "pygments_lexer": "ipython3",
   "version": "3.7.6"
  }
 },
 "nbformat": 4,
 "nbformat_minor": 4
}
